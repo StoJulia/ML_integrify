{
  "nbformat": 4,
  "nbformat_minor": 0,
  "metadata": {
    "colab": {
      "name": "julia_faizan_project1.ipynb",
      "version": "0.3.2",
      "provenance": [],
      "collapsed_sections": []
    },
    "kernelspec": {
      "name": "python3",
      "display_name": "Python 3"
    }
  },
  "cells": [
    {
      "cell_type": "code",
      "metadata": {
        "id": "jsRYg2N9g-B1",
        "colab_type": "code",
        "colab": {}
      },
      "source": [
        "from __future__ import print_function\n",
        "import numpy as np"
      ],
      "execution_count": 0,
      "outputs": []
    },
    {
      "cell_type": "code",
      "metadata": {
        "id": "GolAZdUUiBLb",
        "colab_type": "code",
        "outputId": "f68f3047-05d7-4d52-e27e-cef6d8b6dc24",
        "colab": {
          "base_uri": "https://localhost:8080/",
          "height": 35
        }
      },
      "source": [
        "np.zeros(10)"
      ],
      "execution_count": 0,
      "outputs": [
        {
          "output_type": "execute_result",
          "data": {
            "text/plain": [
              "array([0., 0., 0., 0., 0., 0., 0., 0., 0., 0.])"
            ]
          },
          "metadata": {
            "tags": []
          },
          "execution_count": 3
        }
      ]
    },
    {
      "cell_type": "code",
      "metadata": {
        "id": "qGQb7X7Fjc1R",
        "colab_type": "code",
        "outputId": "ed5321af-d2d6-4e6f-d1ad-e0f722152c4f",
        "colab": {
          "base_uri": "https://localhost:8080/",
          "height": 35
        }
      },
      "source": [
        "line1=[6,7,8,9,10]\n",
        "arr1=np.array(line1)\n",
        "print (arr1)"
      ],
      "execution_count": 0,
      "outputs": [
        {
          "output_type": "stream",
          "text": [
            "[ 6  7  8  9 10]\n"
          ],
          "name": "stdout"
        }
      ]
    },
    {
      "cell_type": "code",
      "metadata": {
        "id": "vjDgUXaBiPOb",
        "colab_type": "code",
        "outputId": "89314641-5e62-42fd-94f5-92a385d608bc",
        "colab": {
          "base_uri": "https://localhost:8080/",
          "height": 69
        }
      },
      "source": [
        "np.zeros((3,6))"
      ],
      "execution_count": 0,
      "outputs": [
        {
          "output_type": "execute_result",
          "data": {
            "text/plain": [
              "array([[0., 0., 0., 0., 0., 0.],\n",
              "       [0., 0., 0., 0., 0., 0.],\n",
              "       [0., 0., 0., 0., 0., 0.]])"
            ]
          },
          "metadata": {
            "tags": []
          },
          "execution_count": 7
        }
      ]
    },
    {
      "cell_type": "code",
      "metadata": {
        "id": "P38W_zLsiS3P",
        "colab_type": "code",
        "outputId": "acbba53a-bbab-4e7e-d5be-ae3ee9f0e369",
        "colab": {
          "base_uri": "https://localhost:8080/",
          "height": 35
        }
      },
      "source": [
        "np.ones(10)"
      ],
      "execution_count": 0,
      "outputs": [
        {
          "output_type": "execute_result",
          "data": {
            "text/plain": [
              "array([1., 1., 1., 1., 1., 1., 1., 1., 1., 1.])"
            ]
          },
          "metadata": {
            "tags": []
          },
          "execution_count": 8
        }
      ]
    },
    {
      "cell_type": "code",
      "metadata": {
        "id": "C2m2E4Yof0eJ",
        "colab_type": "code",
        "outputId": "25051709-878c-4446-d9be-cd8401e5181d",
        "colab": {
          "base_uri": "https://localhost:8080/",
          "height": 34
        }
      },
      "source": [
        "l=[6,7,8,9,10]\n",
        "narr=np.array(l)\n",
        "narr.dtype"
      ],
      "execution_count": 0,
      "outputs": [
        {
          "output_type": "execute_result",
          "data": {
            "text/plain": [
              "dtype('int64')"
            ]
          },
          "metadata": {
            "tags": []
          },
          "execution_count": 149
        }
      ]
    },
    {
      "cell_type": "code",
      "metadata": {
        "id": "f8IeOVY0f1a3",
        "colab_type": "code",
        "colab": {}
      },
      "source": [
        "array2=np.random.rand(2,4)"
      ],
      "execution_count": 0,
      "outputs": []
    },
    {
      "cell_type": "code",
      "metadata": {
        "id": "8-I6Jvurf1Oo",
        "colab_type": "code",
        "outputId": "5dbdd138-ea99-4dc7-a821-d65b61759111",
        "colab": {
          "base_uri": "https://localhost:8080/",
          "height": 34
        }
      },
      "source": [
        "array2.dtype # the following function will give the dimention of the array"
      ],
      "execution_count": 0,
      "outputs": [
        {
          "output_type": "execute_result",
          "data": {
            "text/plain": [
              "dtype('float64')"
            ]
          },
          "metadata": {
            "tags": []
          },
          "execution_count": 151
        }
      ]
    },
    {
      "cell_type": "code",
      "metadata": {
        "id": "MKceOUQif1Ap",
        "colab_type": "code",
        "outputId": "638e8d5e-a177-468c-cd4f-4f6ac10572c7",
        "colab": {
          "base_uri": "https://localhost:8080/",
          "height": 34
        }
      },
      "source": [
        "array2.ndim # the following function will give the dimension in (row, column)"
      ],
      "execution_count": 0,
      "outputs": [
        {
          "output_type": "execute_result",
          "data": {
            "text/plain": [
              "2"
            ]
          },
          "metadata": {
            "tags": []
          },
          "execution_count": 153
        }
      ]
    },
    {
      "cell_type": "code",
      "metadata": {
        "id": "oNByT9ExhpYl",
        "colab_type": "code",
        "outputId": "76f52185-b0f3-402b-d044-9842ddc9445e",
        "colab": {
          "base_uri": "https://localhost:8080/",
          "height": 34
        }
      },
      "source": [
        "array2.shape"
      ],
      "execution_count": 0,
      "outputs": [
        {
          "output_type": "execute_result",
          "data": {
            "text/plain": [
              "(2, 4)"
            ]
          },
          "metadata": {
            "tags": []
          },
          "execution_count": 154
        }
      ]
    },
    {
      "cell_type": "markdown",
      "metadata": {
        "id": "-zLa5s3GkDt7",
        "colab_type": "text"
      },
      "source": [
        "#reshaping"
      ]
    },
    {
      "cell_type": "code",
      "metadata": {
        "id": "pZ0Tk1Onk6jg",
        "colab_type": "code",
        "outputId": "d6dbd254-838e-4bb1-c153-2143eaaff50d",
        "colab": {
          "base_uri": "https://localhost:8080/",
          "height": 35
        }
      },
      "source": [
        "array1=np.arange(10, dtype=float)\n",
        "print(array1)"
      ],
      "execution_count": 0,
      "outputs": [
        {
          "output_type": "stream",
          "text": [
            "[0. 1. 2. 3. 4. 5. 6. 7. 8. 9.]\n"
          ],
          "name": "stdout"
        }
      ]
    },
    {
      "cell_type": "code",
      "metadata": {
        "id": "KwkAucmRjuKN",
        "colab_type": "code",
        "outputId": "177dadda-f03c-4f2c-d9ca-9f04f72fe50d",
        "colab": {
          "base_uri": "https://localhost:8080/",
          "height": 69
        }
      },
      "source": [
        "array1=np.arange(10, dtype=float).reshape(2,5) \n",
        "# reshape array to 2 rows and 5 columns\n",
        "print(array1) \n",
        "print(array1.shape)"
      ],
      "execution_count": 0,
      "outputs": [
        {
          "output_type": "stream",
          "text": [
            "[[0. 1. 2. 3. 4.]\n",
            " [5. 6. 7. 8. 9.]]\n",
            "(2, 5)\n"
          ],
          "name": "stdout"
        }
      ]
    },
    {
      "cell_type": "code",
      "metadata": {
        "id": "7BbjRIIbkh6k",
        "colab_type": "code",
        "outputId": "3a9495f5-a5f8-44a2-c0a4-46ff6b048dfa",
        "colab": {
          "base_uri": "https://localhost:8080/",
          "height": 104
        }
      },
      "source": [
        "print(array1.reshape(5,2))"
      ],
      "execution_count": 0,
      "outputs": [
        {
          "output_type": "stream",
          "text": [
            "[[0. 1.]\n",
            " [2. 3.]\n",
            " [4. 5.]\n",
            " [6. 7.]\n",
            " [8. 9.]]\n"
          ],
          "name": "stdout"
        }
      ]
    },
    {
      "cell_type": "code",
      "metadata": {
        "id": "87M47a--kw2j",
        "colab_type": "code",
        "outputId": "5604479a-e697-4cf0-a795-99282d944432",
        "colab": {
          "base_uri": "https://localhost:8080/",
          "height": 69
        }
      },
      "source": [
        "#add ann axis\n",
        "b=np.array([0,1])\n",
        "b_col=b[:,np.newaxis]\n",
        "print(b)\n",
        "print(b_col)\n",
        "# change the axix of array: rows into columns"
      ],
      "execution_count": 0,
      "outputs": [
        {
          "output_type": "stream",
          "text": [
            "[0 1]\n",
            "[[0]\n",
            " [1]]\n"
          ],
          "name": "stdout"
        }
      ]
    },
    {
      "cell_type": "code",
      "metadata": {
        "id": "iR1I2g9wl_Ax",
        "colab_type": "code",
        "outputId": "fe642592-5bea-408f-b19c-ac03eac19e54",
        "colab": {
          "base_uri": "https://localhost:8080/",
          "height": 52
        }
      },
      "source": [
        "#transpose\n",
        "print(b)\n",
        "print(b_col.T)\n",
        "# returns a view of the array with axes transposed"
      ],
      "execution_count": 0,
      "outputs": [
        {
          "output_type": "stream",
          "text": [
            "[0 1]\n",
            "[[0 1]]\n"
          ],
          "name": "stdout"
        }
      ]
    },
    {
      "cell_type": "code",
      "metadata": {
        "id": "0cvOg3NpmVkw",
        "colab_type": "code",
        "outputId": "11135b68-1244-4f5a-a05a-d9dd414b251a",
        "colab": {
          "base_uri": "https://localhost:8080/",
          "height": 35
        }
      },
      "source": [
        "# flatten: always returns a flat copy of the original array\n",
        "a = np.array([[1,2], [3,4]])\n",
        "a.flatten()\n",
        "\n",
        "a.flatten('F')\n"
      ],
      "execution_count": 0,
      "outputs": [
        {
          "output_type": "execute_result",
          "data": {
            "text/plain": [
              "array([1, 3, 2, 4])"
            ]
          },
          "metadata": {
            "tags": []
          },
          "execution_count": 35
        }
      ]
    },
    {
      "cell_type": "code",
      "metadata": {
        "id": "E1NJQp60ndDm",
        "colab_type": "code",
        "outputId": "347f867c-adab-4ac3-ee19-c3d535bd3f3a",
        "colab": {
          "base_uri": "https://localhost:8080/",
          "height": 69
        }
      },
      "source": [
        "array1=np.arange(10, dtype=float).reshape(2,5)\n",
        "array1_flt=array1.flatten()\n",
        "array1_flt[4]=13\n",
        "print(array1)\n",
        "print(array1_flt)"
      ],
      "execution_count": 0,
      "outputs": [
        {
          "output_type": "stream",
          "text": [
            "[[0. 1. 2. 3. 4.]\n",
            " [5. 6. 7. 8. 9.]]\n",
            "[ 0.  1.  2.  3. 13.  5.  6.  7.  8.  9.]\n"
          ],
          "name": "stdout"
        }
      ]
    },
    {
      "cell_type": "code",
      "metadata": {
        "id": "7Kb7sF55qndf",
        "colab_type": "code",
        "outputId": "00d1a228-22d7-445c-d790-1d9e66bf8b33",
        "colab": {
          "base_uri": "https://localhost:8080/",
          "height": 69
        }
      },
      "source": [
        "array1=np.arange(10, dtype=float).reshape(2,5)\n",
        "array1_flt=array1.ravel()\n",
        "array1_flt[4]=17\n",
        "\n",
        "print(array1_flt)\n",
        "print(array1)\n",
        "\n",
        "# revel returns a contiguous flattened array"
      ],
      "execution_count": 0,
      "outputs": [
        {
          "output_type": "stream",
          "text": [
            "[ 0.  1.  2.  3. 17.  5.  6.  7.  8.  9.]\n",
            "[[ 0.  1.  2.  3. 17.]\n",
            " [ 5.  6.  7.  8.  9.]]\n"
          ],
          "name": "stdout"
        }
      ]
    },
    {
      "cell_type": "markdown",
      "metadata": {
        "id": "ekLA4g9UlCv-",
        "colab_type": "text"
      },
      "source": [
        "# Task 4.4 Stack arrays"
      ]
    },
    {
      "cell_type": "code",
      "metadata": {
        "id": "U0CIVcEsrz6f",
        "colab_type": "code",
        "outputId": "82f4b9f2-ae2f-460e-bc07-bf8c442a9e8a",
        "colab": {
          "base_uri": "https://localhost:8080/",
          "height": 87
        }
      },
      "source": [
        "\n",
        "# stack flat arrays in columns\n",
        "a = np.array([0,1])\n",
        "b = np.array([2,3])\n",
        "\n",
        "# stack will put the two arrays in column , stack on top of eachother\n",
        "ab = np.stack((a,b)).T\n",
        "print(ab)\n",
        "\n",
        "# Another way of doing it\n",
        "\n",
        "np.hstack((a[:, None], b[:,None]))"
      ],
      "execution_count": 0,
      "outputs": [
        {
          "output_type": "stream",
          "text": [
            "[[0 2]\n",
            " [1 3]]\n"
          ],
          "name": "stdout"
        },
        {
          "output_type": "execute_result",
          "data": {
            "text/plain": [
              "array([[0, 2],\n",
              "       [1, 3]])"
            ]
          },
          "metadata": {
            "tags": []
          },
          "execution_count": 155
        }
      ]
    },
    {
      "cell_type": "markdown",
      "metadata": {
        "id": "6zMTcqgilKIM",
        "colab_type": "text"
      },
      "source": [
        "#4.5 Selection "
      ]
    },
    {
      "cell_type": "code",
      "metadata": {
        "id": "hBcKMLPr6mk7",
        "colab_type": "code",
        "outputId": "86953048-fba5-4a4b-e967-2fdf57c82362",
        "colab": {
          "base_uri": "https://localhost:8080/",
          "height": 70
        }
      },
      "source": [
        "\n",
        "#single item\n",
        "\n",
        "arr = np.arange(10, dtype=float).reshape((2,5))\n",
        "print(arr)\n",
        "\n",
        "\n",
        "arr[0] # This will return the first element of the array\n",
        "arr[0,3] # it return the element of 0 row and column 3 (the row and column numbered from zero)\n",
        "# alternate method of doing the same thing as above\n",
        "arr[0][3]\n"
      ],
      "execution_count": 0,
      "outputs": [
        {
          "output_type": "stream",
          "text": [
            "[[0. 1. 2. 3. 4.]\n",
            " [5. 6. 7. 8. 9.]]\n"
          ],
          "name": "stdout"
        },
        {
          "output_type": "execute_result",
          "data": {
            "text/plain": [
              "3.0"
            ]
          },
          "metadata": {
            "tags": []
          },
          "execution_count": 156
        }
      ]
    },
    {
      "cell_type": "markdown",
      "metadata": {
        "id": "J_wA7pQxlPzh",
        "colab_type": "text"
      },
      "source": [
        "# 4.5.1 Slicing"
      ]
    },
    {
      "cell_type": "code",
      "metadata": {
        "id": "jf_uz_BH6lTp",
        "colab_type": "code",
        "outputId": "00222466-c6ce-4211-99aa-31825d085d61",
        "colab": {
          "base_uri": "https://localhost:8080/",
          "height": 122
        }
      },
      "source": [
        "\n",
        "#Syntax:start:stop: step with start (default 0) stop (default 1)\n",
        "\n",
        "#row 0: returns 1d array \n",
        "\n",
        "arr[0, :] \n",
        "\n",
        "# return an array consists of elements from \"0 column\" (1st count)\n",
        "arr[:, 0]\n",
        "\n",
        "# return an array consists of elements from \"2 column\" (3rd count)\n",
        "arr[:,2]\n",
        "\n",
        "\n",
        "# return an array from \"2 column\" (3rd count) onwards\n",
        "arr[:,2:]\n",
        "print(arr)\n",
        "print(arr[:,2:])\n",
        "\n",
        "# return an array from \"1 column\" (2ndcount) onwards\n",
        "''' array1 =\n",
        "[[1 2 3 4]\n",
        " [5 6 7 8]]'''\n",
        "array2 = arr[: , 1:4]\n",
        "array2\n"
      ],
      "execution_count": 0,
      "outputs": [
        {
          "output_type": "stream",
          "text": [
            "[[0. 1. 2. 3. 4.]\n",
            " [5. 6. 7. 8. 9.]]\n",
            "[[2. 3. 4.]\n",
            " [7. 8. 9.]]\n"
          ],
          "name": "stdout"
        },
        {
          "output_type": "execute_result",
          "data": {
            "text/plain": [
              "array([[1., 2., 3.],\n",
              "       [6., 7., 8.]])"
            ]
          },
          "metadata": {
            "tags": []
          },
          "execution_count": 157
        }
      ]
    },
    {
      "cell_type": "markdown",
      "metadata": {
        "id": "Dn5DZLB7xPpe",
        "colab_type": "text"
      },
      "source": [
        "# fancy indexing: integer or boolean array indexing\n"
      ]
    },
    {
      "cell_type": "code",
      "metadata": {
        "id": "SvH8zkI4xWg3",
        "colab_type": "code",
        "outputId": "6d7fbaa7-1ae5-49f5-df9f-b7f8b35f560d",
        "colab": {
          "base_uri": "https://localhost:8080/",
          "height": 87
        }
      },
      "source": [
        "# fancy indexing returns a copy not a view !!!!\n",
        "\n",
        "arr=np.arange(10, dtype=float).reshape(2,5)\n",
        "array2=arr[:,[1,2,3]] \n",
        "print(arr)\n",
        "print(array2)"
      ],
      "execution_count": 0,
      "outputs": [
        {
          "output_type": "stream",
          "text": [
            "[[0. 1. 2. 3. 4.]\n",
            " [5. 6. 7. 8. 9.]]\n",
            "[[1. 2. 3.]\n",
            " [6. 7. 8.]]\n"
          ],
          "name": "stdout"
        }
      ]
    },
    {
      "cell_type": "code",
      "metadata": {
        "id": "rzhRbzMyxpuE",
        "colab_type": "code",
        "outputId": "b65ea163-f7ff-4766-c596-b6665aa07f8f",
        "colab": {
          "base_uri": "https://localhost:8080/",
          "height": 52
        }
      },
      "source": [
        "array2[0,2]=20\n",
        "print(array2)"
      ],
      "execution_count": 0,
      "outputs": [
        {
          "output_type": "stream",
          "text": [
            "[[44.  2. 20.]\n",
            " [ 6.  7.  8.]]\n"
          ],
          "name": "stdout"
        }
      ]
    },
    {
      "cell_type": "code",
      "metadata": {
        "id": "A5evRBAZyVy4",
        "colab_type": "code",
        "outputId": "5a8b3d5a-6399-46d6-f9aa-9d88e6e73d38",
        "colab": {
          "base_uri": "https://localhost:8080/",
          "height": 35
        }
      },
      "source": [
        "array2=arr[arr>5]\n",
        "print(array2)"
      ],
      "execution_count": 0,
      "outputs": [
        {
          "output_type": "stream",
          "text": [
            "[6. 7. 8. 9.]\n"
          ],
          "name": "stdout"
        }
      ]
    },
    {
      "cell_type": "code",
      "metadata": {
        "id": "Y-vROT1OzL40",
        "colab_type": "code",
        "outputId": "c876586b-2e48-4b96-8442-42976c64b64e",
        "colab": {
          "base_uri": "https://localhost:8080/",
          "height": 35
        }
      },
      "source": [
        "array2[0]=33\n",
        "print(array2)"
      ],
      "execution_count": 0,
      "outputs": [
        {
          "output_type": "stream",
          "text": [
            "[33.  7.  8.  9.]\n"
          ],
          "name": "stdout"
        }
      ]
    },
    {
      "cell_type": "code",
      "metadata": {
        "id": "vJeRZQyuzayA",
        "colab_type": "code",
        "outputId": "b86ac6f4-5d58-4ab8-d78e-154842267eca",
        "colab": {
          "base_uri": "https://localhost:8080/",
          "height": 52
        }
      },
      "source": [
        "print(arr)"
      ],
      "execution_count": 0,
      "outputs": [
        {
          "output_type": "stream",
          "text": [
            "[[0. 1. 2. 3. 4.]\n",
            " [5. 6. 7. 8. 9.]]\n"
          ],
          "name": "stdout"
        }
      ]
    },
    {
      "cell_type": "code",
      "metadata": {
        "id": "pCTUK7q1ziUk",
        "colab_type": "code",
        "outputId": "bc58a9ab-9172-4cea-db6a-90daf7f1049b",
        "colab": {
          "base_uri": "https://localhost:8080/",
          "height": 52
        }
      },
      "source": [
        "# however, in the context of value indexing 'Fancy' authorizes\n",
        "# the modification of yhe original array\n",
        "\n",
        "arr[arr>5]=0\n",
        "print(arr)"
      ],
      "execution_count": 0,
      "outputs": [
        {
          "output_type": "stream",
          "text": [
            "[[0. 1. 2. 3. 4.]\n",
            " [5. 0. 0. 0. 0.]]\n"
          ],
          "name": "stdout"
        }
      ]
    },
    {
      "cell_type": "code",
      "metadata": {
        "id": "1BS1T5IA0Lx6",
        "colab_type": "code",
        "outputId": "1ac6933e-40bc-46e4-c72c-8d0ce7bb8472",
        "colab": {
          "base_uri": "https://localhost:8080/",
          "height": 35
        }
      },
      "source": [
        "# booleans arrays indexing continoues\n",
        "\n",
        "fruits=np.array(['orange', 'banana','mango','apple'])\n",
        "fruits=='mango'"
      ],
      "execution_count": 0,
      "outputs": [
        {
          "output_type": "execute_result",
          "data": {
            "text/plain": [
              "array([False, False,  True, False])"
            ]
          },
          "metadata": {
            "tags": []
          },
          "execution_count": 68
        }
      ]
    },
    {
      "cell_type": "code",
      "metadata": {
        "id": "DPvijjET0opb",
        "colab_type": "code",
        "outputId": "e5fd6385-2c45-4d1f-8874-d5341d23b56d",
        "colab": {
          "base_uri": "https://localhost:8080/",
          "height": 35
        }
      },
      "source": [
        "fruits[fruits!='banana']"
      ],
      "execution_count": 0,
      "outputs": [
        {
          "output_type": "execute_result",
          "data": {
            "text/plain": [
              "array(['orange', 'mango', 'apple'], dtype='<U6')"
            ]
          },
          "metadata": {
            "tags": []
          },
          "execution_count": 69
        }
      ]
    },
    {
      "cell_type": "code",
      "metadata": {
        "id": "Ew34DAWS1MQu",
        "colab_type": "code",
        "outputId": "ba6382f6-a6c7-465a-e745-4659c3e4e740",
        "colab": {
          "base_uri": "https://localhost:8080/",
          "height": 35
        }
      },
      "source": [
        "(fruits=='banana')|(fruits=='ananas')"
      ],
      "execution_count": 0,
      "outputs": [
        {
          "output_type": "execute_result",
          "data": {
            "text/plain": [
              "array([False,  True, False, False])"
            ]
          },
          "metadata": {
            "tags": []
          },
          "execution_count": 71
        }
      ]
    },
    {
      "cell_type": "code",
      "metadata": {
        "id": "OevzweTI2NBU",
        "colab_type": "code",
        "outputId": "8ac59ad0-1aee-4f3a-dd6e-63af1796e99b",
        "colab": {
          "base_uri": "https://localhost:8080/",
          "height": 35
        }
      },
      "source": [
        "fruits[fruits!='banana']='peach'\n",
        "print(fruits)"
      ],
      "execution_count": 0,
      "outputs": [
        {
          "output_type": "stream",
          "text": [
            "['peach' 'banana' 'peach' 'peach']\n"
          ],
          "name": "stdout"
        }
      ]
    },
    {
      "cell_type": "code",
      "metadata": {
        "id": "OGe7Yvkt2eze",
        "colab_type": "code",
        "outputId": "07c98328-b8b8-478d-b594-a87da721edfb",
        "colab": {
          "base_uri": "https://localhost:8080/",
          "height": 35
        }
      },
      "source": [
        "np.unique(fruits)"
      ],
      "execution_count": 0,
      "outputs": [
        {
          "output_type": "execute_result",
          "data": {
            "text/plain": [
              "array(['banana', 'peach'], dtype='<U6')"
            ]
          },
          "metadata": {
            "tags": []
          },
          "execution_count": 74
        }
      ]
    },
    {
      "cell_type": "markdown",
      "metadata": {
        "id": "eyC1Q60d7KMe",
        "colab_type": "text"
      },
      "source": [
        "4.6"
      ]
    },
    {
      "cell_type": "markdown",
      "metadata": {
        "id": "cS_XRsfUjUCb",
        "colab_type": "text"
      },
      "source": [
        "# 4.6 Vectorized Operations"
      ]
    },
    {
      "cell_type": "code",
      "metadata": {
        "id": "Eg5jVoYU2yqA",
        "colab_type": "code",
        "colab": {}
      },
      "source": [
        "\n",
        "\n",
        "nums = np.arange(5)\n",
        "nums * 10                # multiply each by 10\n",
        "nums  = np.sqrt (nums) # square root of each element\n",
        "np.ceil(nums)         # also floor, rint (round the nearest int)\n",
        "np.isnan(nums)       # checks for NaN\n",
        "nums +np.arange(5)   # add element -wise\n",
        "np.maximum(nums, np.array([1, -2, 3, -4, 5])) # compare elemnt -wise\n",
        "\n",
        "\n"
      ],
      "execution_count": 0,
      "outputs": []
    },
    {
      "cell_type": "markdown",
      "metadata": {
        "id": "CZg0DlXyjmIA",
        "colab_type": "text"
      },
      "source": [
        "# Compare Euclidean distance between 2 vectors"
      ]
    },
    {
      "cell_type": "code",
      "metadata": {
        "id": "Pc5S8cIyjxVS",
        "colab_type": "code",
        "colab": {}
      },
      "source": [
        "vec1 = np.random.randn(10) # creating an array of random floats\n",
        "vec2 = np.random.randn(10) \n",
        "dist = np.sqrt(np.sum((vec1-vec2)**2))\n",
        "print(dist)\n"
      ],
      "execution_count": 0,
      "outputs": []
    },
    {
      "cell_type": "markdown",
      "metadata": {
        "id": "nRU8cRsij_dV",
        "colab_type": "text"
      },
      "source": [
        "# math and stats"
      ]
    },
    {
      "cell_type": "code",
      "metadata": {
        "id": "8kTrHxlAkIgG",
        "colab_type": "code",
        "colab": {}
      },
      "source": [
        "rnd = np.random.randn(4, 2) # creating a random array 4X2\n",
        "rnd.mean()\n",
        "rnd.std()\n",
        "rnd.argmin()         # index of minimum element\n",
        "rnd.sum()\n",
        "rnd.sum(axis=0)      # sum of columns\n",
        "rnd.sum(axis=1)     # sum of rows\n"
      ],
      "execution_count": 0,
      "outputs": []
    },
    {
      "cell_type": "markdown",
      "metadata": {
        "id": "b4lAwgP6kRRr",
        "colab_type": "text"
      },
      "source": [
        "# methods for boolean arrays\n",
        "\n"
      ]
    },
    {
      "cell_type": "code",
      "metadata": {
        "id": "ERf_eMILkc8o",
        "colab_type": "code",
        "colab": {}
      },
      "source": [
        "(rnd > 0).sum()         # counts number of positive values\n",
        "(rnd > 0).any()         # checks if any value its True\n",
        "(rnd > 0).all()        # checks if all values are True"
      ],
      "execution_count": 0,
      "outputs": []
    },
    {
      "cell_type": "markdown",
      "metadata": {
        "id": "UA6GJzuhkoz3",
        "colab_type": "text"
      },
      "source": [
        "# random numbers"
      ]
    },
    {
      "cell_type": "code",
      "metadata": {
        "id": "9a6OkSspkctp",
        "colab_type": "code",
        "colab": {}
      },
      "source": [
        "np.random.seed(12234)      # set the seed\n",
        "np.random.rand(2, 3)       # 2 X 3 matrix in [0, 1]\n",
        "np.random.randn(1)        # random normals (mean 0, sd 1)\n",
        "np.random.randint(0, 2, 10)  # 10 randomly picked 0 or 1"
      ],
      "execution_count": 0,
      "outputs": []
    },
    {
      "cell_type": "markdown",
      "metadata": {
        "id": "81G_BG8c3BOU",
        "colab_type": "text"
      },
      "source": [
        "# broadcasting"
      ]
    },
    {
      "cell_type": "code",
      "metadata": {
        "id": "dNt-GTVq3Kb8",
        "colab_type": "code",
        "outputId": "5a8ddab6-4eb7-4c4d-cd4b-1cfcb35482c3",
        "colab": {
          "base_uri": "https://localhost:8080/",
          "height": 87
        }
      },
      "source": [
        "c=np.array([[1,1,1],\n",
        "           [40,40,40],\n",
        "           [50,50,50],\n",
        "           [60,60,60]])\n",
        "d=np.array([4,5,6])\n",
        "\n",
        "print(c+d)"
      ],
      "execution_count": 0,
      "outputs": [
        {
          "output_type": "stream",
          "text": [
            "[[ 5  6  7]\n",
            " [44 45 46]\n",
            " [54 55 56]\n",
            " [64 65 66]]\n"
          ],
          "name": "stdout"
        }
      ]
    },
    {
      "cell_type": "markdown",
      "metadata": {
        "id": "pS8p2QpgFOtt",
        "colab_type": "text"
      },
      "source": [
        "# Excercises\n",
        "\n"
      ]
    },
    {
      "cell_type": "code",
      "metadata": {
        "id": "NDOwuCi9FW0q",
        "colab_type": "code",
        "colab": {}
      },
      "source": [
        "wek=np.random.rand(4,2)"
      ],
      "execution_count": 0,
      "outputs": []
    },
    {
      "cell_type": "code",
      "metadata": {
        "id": "kICAo5ULFhtY",
        "colab_type": "code",
        "outputId": "07ca471d-9e86-49a3-89a5-a942130e11a7",
        "colab": {
          "base_uri": "https://localhost:8080/",
          "height": 87
        }
      },
      "source": [
        "print(wek)"
      ],
      "execution_count": 0,
      "outputs": [
        {
          "output_type": "stream",
          "text": [
            "[[0.2549697  0.49724061]\n",
            " [0.60506698 0.97821605]\n",
            " [0.9056895  0.63981214]\n",
            " [0.41899831 0.79595982]]\n"
          ],
          "name": "stdout"
        }
      ]
    },
    {
      "cell_type": "code",
      "metadata": {
        "id": "4itVbhrBFj_0",
        "colab_type": "code",
        "outputId": "ec0f851c-469d-4698-e04c-074d57174999",
        "colab": {
          "base_uri": "https://localhost:8080/",
          "height": 34
        }
      },
      "source": [
        "np.argmin(wek, axis=0) # returns position"
      ],
      "execution_count": 0,
      "outputs": [
        {
          "output_type": "execute_result",
          "data": {
            "text/plain": [
              "array([0, 0])"
            ]
          },
          "metadata": {
            "tags": []
          },
          "execution_count": 158
        }
      ]
    },
    {
      "cell_type": "code",
      "metadata": {
        "id": "h-04cx_JGYZ8",
        "colab_type": "code",
        "outputId": "73ef6865-23f9-4e66-d329-3108fefd567c",
        "colab": {
          "base_uri": "https://localhost:8080/",
          "height": 34
        }
      },
      "source": [
        "np.amin(wek, axis=0) #returns values "
      ],
      "execution_count": 0,
      "outputs": [
        {
          "output_type": "execute_result",
          "data": {
            "text/plain": [
              "array([0.2549697 , 0.49724061])"
            ]
          },
          "metadata": {
            "tags": []
          },
          "execution_count": 99
        }
      ]
    },
    {
      "cell_type": "code",
      "metadata": {
        "id": "pwYukIU5JXtk",
        "colab_type": "code",
        "outputId": "099458cf-55be-4ae1-8c6b-085ecca1b016",
        "colab": {
          "base_uri": "https://localhost:8080/",
          "height": 34
        }
      },
      "source": [
        "result=np.where(wek==np.amin(wek, axis=0)) # other possibility - to get exact position\n",
        "print (result)"
      ],
      "execution_count": 0,
      "outputs": [
        {
          "output_type": "stream",
          "text": [
            "(array([0, 0]), array([0, 1]))\n"
          ],
          "name": "stdout"
        }
      ]
    },
    {
      "cell_type": "code",
      "metadata": {
        "id": "-I3e_NvNN1a7",
        "colab_type": "code",
        "outputId": "c1636375-3d1f-4577-d224-61c9b6a33fce",
        "colab": {
          "base_uri": "https://localhost:8080/",
          "height": 34
        }
      },
      "source": [
        "result = np.where(wek == np.amin(wek))\n",
        "print(result)"
      ],
      "execution_count": 0,
      "outputs": [
        {
          "output_type": "stream",
          "text": [
            "(array([0]), array([0]))\n"
          ],
          "name": "stdout"
        }
      ]
    },
    {
      "cell_type": "markdown",
      "metadata": {
        "id": "4_MYe2LZSKZq",
        "colab_type": "text"
      },
      "source": [
        "# standardize"
      ]
    },
    {
      "cell_type": "code",
      "metadata": {
        "id": "W3rIIbHDSI0m",
        "colab_type": "code",
        "outputId": "6c11461d-59cf-4137-a99c-49e8e00cb2ea",
        "colab": {
          "base_uri": "https://localhost:8080/",
          "height": 87
        }
      },
      "source": [
        "print(wek)\n"
      ],
      "execution_count": 0,
      "outputs": [
        {
          "output_type": "stream",
          "text": [
            "[[0.2549697  0.49724061]\n",
            " [0.60506698 0.97821605]\n",
            " [0.9056895  0.63981214]\n",
            " [0.41899831 0.79595982]]\n"
          ],
          "name": "stdout"
        }
      ]
    },
    {
      "cell_type": "code",
      "metadata": {
        "id": "5bJU5bd3SaYO",
        "colab_type": "code",
        "outputId": "765d340c-67c9-4266-ae53-7db2fb5e0be2",
        "colab": {
          "base_uri": "https://localhost:8080/",
          "height": 122
        }
      },
      "source": [
        "sigma=(np.std(wek))\n",
        "print(sigma)\n",
        "ni=(wek.mean())\n",
        "print(ni)\n",
        "z=(wek-ni)/sigma\n",
        "print(z)"
      ],
      "execution_count": 0,
      "outputs": [
        {
          "output_type": "stream",
          "text": [
            "0.23127982625079335\n",
            "0.6369941402735797\n",
            "[[-1.65178451 -0.60426166]\n",
            " [-0.13804559  1.47536391]\n",
            " [ 1.16177604  0.01218439]\n",
            " [-0.94256311  0.68733053]]\n"
          ],
          "name": "stdout"
        }
      ]
    },
    {
      "cell_type": "code",
      "metadata": {
        "id": "FNvcHNunSdnz",
        "colab_type": "code",
        "outputId": "b99ef8e6-b8a3-45b4-b083-d6d0b68e65b8",
        "colab": {
          "base_uri": "https://localhost:8080/",
          "height": 34
        }
      },
      "source": [
        "z.mean()"
      ],
      "execution_count": 0,
      "outputs": [
        {
          "output_type": "execute_result",
          "data": {
            "text/plain": [
              "1.3877787807814457e-17"
            ]
          },
          "metadata": {
            "tags": []
          },
          "execution_count": 136
        }
      ]
    },
    {
      "cell_type": "code",
      "metadata": {
        "id": "tyhmoIWcTjUl",
        "colab_type": "code",
        "colab": {}
      },
      "source": [
        "def stand():\n",
        "  sigma=(np.std(wek))\n",
        "  ni=(wek.mean())\n",
        "  z=(wek-ni)/sigma\n",
        "  print(z)"
      ],
      "execution_count": 0,
      "outputs": []
    },
    {
      "cell_type": "code",
      "metadata": {
        "id": "j3k3_f5vYet1",
        "colab_type": "code",
        "outputId": "961182f6-e840-4b12-f59f-ab0402b03e07",
        "colab": {
          "base_uri": "https://localhost:8080/",
          "height": 87
        }
      },
      "source": [
        "stand()"
      ],
      "execution_count": 0,
      "outputs": [
        {
          "output_type": "stream",
          "text": [
            "[[-1.65178451 -0.60426166]\n",
            " [-0.13804559  1.47536391]\n",
            " [ 1.16177604  0.01218439]\n",
            " [-0.94256311  0.68733053]]\n"
          ],
          "name": "stdout"
        }
      ]
    },
    {
      "cell_type": "markdown",
      "metadata": {
        "id": "NEWUMY8pb9MO",
        "colab_type": "text"
      },
      "source": [
        "# page 7\n",
        "\n",
        "On the page 7 we have arithmetical operation on arrays. If we want to compare them or add they must to be of the same dimension. If one is 1D, it stretch to fit into the dimention of bigger one. Values of 1D array are used to fill in the rest of \"dimensions\"."
      ]
    },
    {
      "cell_type": "code",
      "metadata": {
        "id": "CNlgB3jZexdW",
        "colab_type": "code",
        "colab": {}
      },
      "source": [
        ""
      ],
      "execution_count": 0,
      "outputs": []
    },
    {
      "cell_type": "markdown",
      "metadata": {
        "id": "AKRvQn3etC-p",
        "colab_type": "text"
      },
      "source": [
        "#Lists of cammands that are useful and were not included in the exercise\n",
        "\n",
        "1. np.indices(dimensions, dtype=<type 'int'>)\n",
        "Indices()  creates a set of arrays stacked as one higher dimession array, one per dimension with each representing variation in that dimension.Return an array representing the indices of a grid.\n",
        "Compute an array where the subarrays contain index values 0,1,… varying only along the corresponding axis.\n",
        "Parameters:\t\n",
        "dimensions : sequence of ints\n",
        "\n",
        "The shape of the grid.\n",
        "dtype : dtype, optional\n",
        "Data type of the result.\n",
        "\n",
        "Returns:\t\n",
        "grid : ndarray\n",
        "The array of grid indices, grid.shape = (len(dimensions),) + tuple(dimensions).\n",
        "\n",
        "\n",
        "2.np.cos(x[, out]) = ufunc ‘cos’) : This mathematical function helps user to calculate trigonmetric cosine for all x (being the array elements)\n",
        "\n",
        "3.np.round(arr, decimals = 0, out = None) : This mathematical function round an array to the given number of decimals.\n",
        "For values exactly halfway between rounded decimal values, NumPy rounds to the nearest even value. Thus 1.5 and 2.5 round to 2.0, -0.5 and 0.5 round to 0.0, etc. Results may also be surprising due to the inexact representation of decimal fractions in the IEEE floating point standard and errors introduced when scaling by powers of ten.\n",
        "\n",
        "4.np.transpose(a,axes=None), it changes the order of an array from (r,c) tp (c,r). It allows to change rows into columns. Useful while cleaning and preparing data for analysis.\n",
        "\n",
        "Parameters:\n",
        "\n",
        "a : array_like\n",
        "Input array.\n",
        "\n",
        "axes : list of ints, optional\n",
        "\n",
        "By default, reverse the dimensions, otherwise permute the axes according to the values given.\n",
        "\n",
        "5.np.divide(x1, x2, /, out=None, *, where=True, casting='same_kind', order='K', dtype=None, subok=True[ , signature, extobj]) it divides one array to another.\n",
        "Behavior on division by zero can be changed using seterr.\n",
        "\n",
        "Parameters:\t\n",
        "\n",
        "x1 : array_like\n",
        "Dividend array.\n",
        "\n",
        "x2 : array_like\n",
        "Divisor array.\n",
        "\n",
        "out : ndarray, None, or tuple of ndarray and None, optional\n",
        "A location into which the result is stored. If provided, it must have a shape that the inputs broadcast to. If not provided or None, a freshly-allocated array is returned. A tuple (possible only as a keyword argument) must have length equal to the number of outputs.\n",
        "\n",
        "where : array_like, optional\n",
        "Values of True indicate to calculate the ufunc at that position, values of False indicate to leave the value in the output alone.\n",
        "\n",
        "kwargs\n"
      ]
    }
  ]
}